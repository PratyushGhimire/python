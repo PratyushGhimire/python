{
  "cells": [
    {
      "cell_type": "code",
      "execution_count": 16,
      "metadata": {
        "colab": {
          "base_uri": "https://localhost:8080/"
        },
        "id": "J_F0_UV1uwaN",
        "outputId": "7d3abb62-2584-468a-fce2-a28f2efb4ccc"
      },
      "outputs": [
        {
          "name": "stdout",
          "output_type": "stream",
          "text": [
            "the are of firsst square is: 36\n",
            "the are of second square is: 49\n"
          ]
        }
      ],
      "source": [
        "#declaring function to calculate square of number\n",
        "def calculate_square(length):\n",
        "  return length * length\n",
        "  #Calling a function\n",
        "print(\"the are of firsst square is:\",calculate_square(6))\n",
        "print(\"the are of second square is:\",calculate_square(7))\n"
      ]
    },
    {
      "cell_type": "markdown",
      "metadata": {
        "id": "hZX2HfuPws1j"
      },
      "source": [
        "#find value of circle\n"
      ]
    },
    {
      "cell_type": "code",
      "execution_count": 46,
      "metadata": {
        "colab": {
          "base_uri": "https://localhost:8080/"
        },
        "id": "789KtML1wyEZ",
        "outputId": "a877c240-ff42-4050-f25b-1a6c49258663"
      },
      "outputs": [
        {
          "name": "stdout",
          "output_type": "stream",
          "text": [
            "ramu\n",
            "7\n",
            "{'name': 'ramu', 'class': 7, 'gender': 'female'}\n",
            "{'name': 'ramu', 'class': 9, 'gender': 'female'}\n",
            "{'name': 'ramu', 'class': 9, 'gender': 'female', 'roll_num': 10}\n",
            "{'name': 'ramu', 'gender': 'female', 'roll_num': 10}\n"
          ]
        }
      ],
      "source": [
        "# fruits = [\"apple\", \"banana\", \"mango\", \"litchi\", \"watermelon\"]\n",
        "# print(fruits)\n",
        "\n",
        "#accessing elements from the list\n",
        "# print(fruits[0])\n",
        "# print(fruits[-1])\n",
        "# print(fruits[4])\n",
        "# print(fruits[2])\n",
        "\n",
        "#adding and removging elements from the list\n",
        "# fruits.append(\"pineappple\")\n",
        "# print(fruits)\n",
        "\n",
        "#removing fruits\n",
        "# fruits.remove(\"apple\")\n",
        "# print(fruits)\n",
        "\n",
        "student = {\n",
        "    \"name\" : \"ramu\",\n",
        "    \"class\" : 7,\n",
        "\n",
        "\n",
        "}\n",
        "#printing values from keys\n",
        "\n",
        "print(student[\"name\"])\n",
        "print(student[\"class\"])\n",
        "\n",
        "#updating gender in particular key in a dictionary\n",
        "student[\"gender\"] = \"female\"\n",
        "print(student)\n",
        "student[\"class\"] = 9\n",
        "print(student)\n",
        "\n",
        "#adding a new key\n",
        "student[\"roll_num\"] = 10\n",
        "print(student)\n",
        "\n",
        "#deleting from exiting discionary\n",
        "del student[\"class\"]\n",
        "print(student)\n",
        "\n"
      ]
    },
    {
      "cell_type": "markdown",
      "metadata": {
        "id": "6306qODuywLM"
      },
      "source": []
    },
    {
      "cell_type": "markdown",
      "metadata": {},
      "source": [
        "homework\n"
      ]
    },
    {
      "cell_type": "code",
      "execution_count": null,
      "metadata": {},
      "outputs": [],
      "source": [
        "#age calculator:\n",
        "date = int(input(\"enter your date of birth in AD:\"))\n",
        "age = 2025 - date\n",
        "print(date)\n",
        "\n",
        "\n"
      ]
    }
  ],
  "metadata": {
    "colab": {
      "provenance": []
    },
    "kernelspec": {
      "display_name": "Python 3",
      "name": "python3"
    },
    "language_info": {
      "name": "python"
    }
  },
  "nbformat": 4,
  "nbformat_minor": 0
}
