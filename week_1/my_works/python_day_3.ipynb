{
  "nbformat": 4,
  "nbformat_minor": 0,
  "metadata": {
    "colab": {
      "provenance": []
    },
    "kernelspec": {
      "name": "python3",
      "display_name": "Python 3"
    },
    "language_info": {
      "name": "python"
    }
  },
  "cells": [
    {
      "cell_type": "markdown",
      "source": [],
      "metadata": {
        "id": "93m6RqVeARzu"
      }
    },
    {
      "cell_type": "markdown",
      "source": [
        "te"
      ],
      "metadata": {
        "id": "G9BEiOFOAaqs"
      }
    },
    {
      "cell_type": "markdown",
      "source": [
        "#creating a variable named text which contains leading and trails spaces"
      ],
      "metadata": {
        "id": "m0oSdrlmAWfe"
      }
    },
    {
      "cell_type": "markdown",
      "source": [
        "#### of  day two\n"
      ],
      "metadata": {
        "id": "pPjOxlSNCqe-"
      }
    },
    {
      "cell_type": "code",
      "execution_count": 14,
      "metadata": {
        "colab": {
          "base_uri": "https://localhost:8080/"
        },
        "id": "WTPdTjLq8sb7",
        "outputId": "836c497a-98b6-492d-8cb5-42d808db3f54"
      },
      "outputs": [
        {
          "output_type": "stream",
          "name": "stdout",
          "text": [
            "    HELLO WORLD     \n",
            "    hello world     \n",
            "HELLO WORLD\n",
            "    HELLO humans     \n",
            "['HELLO', 'WORLD']\n",
            "HELLO_WORLD\n"
          ]
        }
      ],
      "source": [
        "text = \"    HELLO WORLD     \"\n",
        "print(text)\n",
        "\n",
        "#using .lower() function to introduce lowercase\n",
        "print(text.lower())\n",
        "\n",
        "#stripping\n",
        "print(text.strip())\n",
        "\n",
        "#using replace\n",
        "print(text.replace(\"WORLD\", \"humans\"))\n",
        "\n",
        "#method/ function chainig\n",
        "splitted = text.strip().split()\n",
        "print(splitted)\n",
        "\n",
        "#joining using .join()method to join the seperated words\n",
        "joined = '_'.join(splitted)\n",
        "print(joined)"
      ]
    },
    {
      "cell_type": "markdown",
      "source": [
        "#day three start\n",
        "## modular programming in python"
      ],
      "metadata": {
        "id": "yGCLmYqiCvbB"
      }
    },
    {
      "cell_type": "code",
      "source": [
        "import math\n",
        "square_root = math.sqrt(25)\n",
        "print(\"the square root of 25 is\",int(square_root))"
      ],
      "metadata": {
        "colab": {
          "base_uri": "https://localhost:8080/"
        },
        "id": "-k_u4affC1kP",
        "outputId": "85b2085f-b794-4909-dfed-06e4da2f10ea"
      },
      "execution_count": 16,
      "outputs": [
        {
          "output_type": "stream",
          "name": "stdout",
          "text": [
            "the square root of 25 is 5\n"
          ]
        }
      ]
    },
    {
      "cell_type": "markdown",
      "source": [
        "#flooring and ceiling"
      ],
      "metadata": {
        "id": "wk463DVlDqnM"
      }
    },
    {
      "cell_type": "code",
      "source": [
        "import math\n",
        "floor = math.floor(4.8)\n",
        "print(floor)\n",
        "\n",
        "ceil = math.ceil(4.8)\n",
        "print(ceil)"
      ],
      "metadata": {
        "colab": {
          "base_uri": "https://localhost:8080/"
        },
        "id": "AVaPMm5ADubA",
        "outputId": "71a01565-cf63-4c62-9b81-ad9a2e8ed9c2"
      },
      "execution_count": 19,
      "outputs": [
        {
          "output_type": "stream",
          "name": "stdout",
          "text": [
            "4\n",
            "5\n"
          ]
        }
      ]
    },
    {
      "cell_type": "markdown",
      "source": [
        "#module aliasing"
      ],
      "metadata": {
        "id": "61fzNmiREK8g"
      }
    },
    {
      "cell_type": "code",
      "source": [
        "import matplotlib.pyplot as plt\n"
      ],
      "metadata": {
        "id": "dl9BEl-cEQiB"
      },
      "execution_count": null,
      "outputs": []
    },
    {
      "cell_type": "markdown",
      "source": [
        "#varaible aliasing"
      ],
      "metadata": {
        "id": "UTWcj4vdEZvC"
      }
    },
    {
      "cell_type": "code",
      "source": [
        "a = [1, 2, 3]\n",
        "print(a)\n",
        "b = a\n",
        "b.append(4)\n",
        "print(b)\n",
        "print(a)"
      ],
      "metadata": {
        "colab": {
          "base_uri": "https://localhost:8080/"
        },
        "id": "PG2tYWoZEff4",
        "outputId": "f5253cd2-13fd-49fa-a250-24c2a3b934b3"
      },
      "execution_count": 23,
      "outputs": [
        {
          "output_type": "stream",
          "name": "stdout",
          "text": [
            "[1, 2, 3]\n",
            "[1, 2, 3, 4]\n",
            "[1, 2, 3, 4]\n"
          ]
        }
      ]
    },
    {
      "cell_type": "markdown",
      "source": [
        "#homework: function/method aliasing\n"
      ],
      "metadata": {
        "id": "yUOumkQwFDFW"
      }
    },
    {
      "cell_type": "markdown",
      "source": [
        "#randoms in python"
      ],
      "metadata": {
        "id": "WOiKGktGFTGv"
      }
    },
    {
      "cell_type": "code",
      "source": [
        "import random as rdn\n",
        "print(rdn.random())\n",
        "print(rdn.randint(1,10))"
      ],
      "metadata": {
        "colab": {
          "base_uri": "https://localhost:8080/"
        },
        "id": "YtmrEp5cFVVf",
        "outputId": "9dc0b1a0-f0e0-47ac-a9d8-6382755838a4"
      },
      "execution_count": 41,
      "outputs": [
        {
          "output_type": "stream",
          "name": "stdout",
          "text": [
            "0.38816076363810603\n",
            "6\n"
          ]
        }
      ]
    },
    {
      "cell_type": "markdown",
      "source": [
        "#randomfloating_in_range"
      ],
      "metadata": {
        "id": "GB5BAYfwGcDO"
      }
    },
    {
      "cell_type": "code",
      "source": [
        "r = rdn.uniform(10.5,99.5)\n",
        "print(r)\n"
      ],
      "metadata": {
        "id": "7Rq_osRiGj-w"
      },
      "execution_count": null,
      "outputs": []
    },
    {
      "cell_type": "markdown",
      "source": [],
      "metadata": {
        "id": "8wdLullMGuGj"
      }
    },
    {
      "cell_type": "markdown",
      "source": [
        "#HOMEWORK EXPLORE MORE MODULES OR FUNCTIONS"
      ],
      "metadata": {
        "id": "RdHE5ulxFHpz"
      }
    },
    {
      "cell_type": "markdown",
      "source": [
        "#creating costum modules in python"
      ],
      "metadata": {
        "id": "GskZcn-TG0ct"
      }
    },
    {
      "cell_type": "code",
      "source": [
        " %%writefile helper123.py\n",
        "def add_numbers(a,b):\n",
        "\n",
        "  return a + b"
      ],
      "metadata": {
        "colab": {
          "base_uri": "https://localhost:8080/"
        },
        "id": "Uq9mEKAHG_0B",
        "outputId": "331dbf36-d92a-4129-f6ae-a90b92789e9c"
      },
      "execution_count": 45,
      "outputs": [
        {
          "output_type": "stream",
          "name": "stdout",
          "text": [
            "Writing helper123.py\n"
          ]
        }
      ]
    },
    {
      "cell_type": "code",
      "source": [
        "#main.py\n",
        "import helper123\n",
        "result = helper123.add_numbers(5, 4)\n",
        "print(result)"
      ],
      "metadata": {
        "colab": {
          "base_uri": "https://localhost:8080/"
        },
        "id": "heKj_gTzHf5E",
        "outputId": "862b6b51-e471-436f-b008-a4590956373d"
      },
      "execution_count": 46,
      "outputs": [
        {
          "output_type": "stream",
          "name": "stdout",
          "text": [
            "9\n"
          ]
        }
      ]
    }
  ]
}